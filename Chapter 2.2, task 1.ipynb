{
 "cells": [
  {
   "cell_type": "code",
   "execution_count": 1,
   "metadata": {},
   "outputs": [
    {
     "name": "stdout",
     "output_type": "stream",
     "text": [
      "1963 4 5\n",
      "4\n",
      "1963 4 9\n"
     ]
    }
   ],
   "source": [
    "# put your python code here\n",
    "import datetime\n",
    "\n",
    "yy, mm, dd = map(int, input().split())\n",
    "date = datetime.date(yy, mm, dd)\n",
    "\n",
    "delta = datetime.timedelta(days = int(input()))\n",
    "\n",
    "new_date = delta + date\n",
    "print(new_date.year, new_date.month, new_date.day)"
   ]
  },
  {
   "cell_type": "code",
   "execution_count": null,
   "metadata": {},
   "outputs": [],
   "source": []
  }
 ],
 "metadata": {
  "kernelspec": {
   "display_name": "Python 3",
   "language": "python",
   "name": "python3"
  },
  "language_info": {
   "codemirror_mode": {
    "name": "ipython",
    "version": 3
   },
   "file_extension": ".py",
   "mimetype": "text/x-python",
   "name": "python",
   "nbconvert_exporter": "python",
   "pygments_lexer": "ipython3",
   "version": "3.6.4"
  }
 },
 "nbformat": 4,
 "nbformat_minor": 2
}
